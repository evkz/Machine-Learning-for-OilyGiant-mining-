{
 "cells": [
  {
   "cell_type": "markdown",
   "id": "668e7034",
   "metadata": {},
   "source": [
    "## Machine Learning in Business:"
   ]
  },
  {
   "cell_type": "markdown",
   "id": "cbc8e9b4",
   "metadata": {},
   "source": [
    "### Project description: \n",
    "For the OilyGiant mining company. \n",
    "The task is to find the best place for a new well.\n",
    "Steps to choose the location:\n",
    "* Collect the oil well parameters in the selected region: oil quality and volume of reserves;\n",
    "* Build a model for predicting the volume of reserves in the new wells;\n",
    "* Pick the oil wells with the highest estimated values;\n",
    "* Pick the region with the highest total profit for the selected oil wells.\n"
   ]
  },
  {
   "cell_type": "markdown",
   "id": "86f6f10e",
   "metadata": {},
   "source": [
    "### Table of contents: \n",
    "* [Data description](#Data-description)\n",
    "\n",
    "* [1. Download and prepare the data](#1.-Download-and-prepare-the-data.)\n",
    "\n",
    "* [2. Train and test the model for each region](#2.-Train-and-test-the-model-for-each-region:)\n",
    "\n",
    "    * [2.1. Split the data into a training set and validation](#2.1-Split-the-data-into-a-training-set-and-validation)\n",
    "    \n",
    "    * [2.2. Train the model and make predictions for the validation set](#2.2-Train-the-model-and-make-predictions-for-the-validation-set)\n",
    "    * [2.3. Analyze the results](#2.3-Analyze-the-results)\n",
    "    \n",
    "* [3. Prepare for profit calculation](#3.-Prepare-for-profit-calculation:)\n",
    "   \n",
    "* [4. Profit estimation](#4.--Profit-estimation:)\n",
    "    \n",
    "* [5. Calculate risks and profit for each region](#5.-Calculate-risks-and-profit-for-each-region)\n",
    "    * [5.1. Use the bootstrapping technique with 1000 samples to find the distribution of profit](#5.1.-Use-the-bootstrapping-technique-with-1000-samples-to-find-the-distribution-of-profit)\n",
    "    * [5.2. Find average profit, 95% confidence interval and risk of losses. Loss is negative profit, calculate it as a probability and then express as a percentage](#5.2.-Find-average-profit,-95%-confidence-interval-and-risk-of-losses.-Loss-is-negative-profit,-calculate-it-as-a-probability-and-then-express-as-a-percentage)\n",
    "    * [5.3. Provide findings: suggest a region for development of oil wells and justify the choice](#5.3.-Provide-findings:-suggest-a-region-for-development-of-oil-wells-and-justify-the-choice)\n",
    "    \n",
    "* [Conclusion](#Conclusion)\n"
   ]
  },
  {
   "cell_type": "markdown",
   "id": "ad38fac8",
   "metadata": {},
   "source": [
    "### Data description\n",
    "Geological exploration data for the three regions are stored in files:\n",
    "geo1, geo2, geo3.\n",
    "* id — unique oil well identifier\n",
    "* f0, f1, f2 — three features of points (their specific meaning is unimportant, but the features themselves are significant)\n",
    "* product — volume of reserves in the oil well (thousand barrels).\n"
   ]
  },
  {
   "cell_type": "markdown",
   "id": "c6648fdd",
   "metadata": {},
   "source": [
    "### 1. Download and prepare the data"
   ]
  },
  {
   "cell_type": "code",
   "execution_count": 1,
   "id": "f171c8d1",
   "metadata": {},
   "outputs": [],
   "source": [
    "import pandas as pd\n",
    "import numpy as np\n",
    "\n",
    "from sklearn.preprocessing import StandardScaler\n",
    "from sklearn.model_selection import train_test_split\n",
    "import plotly.graph_objects as go\n",
    "\n",
    "from plotly.subplots import make_subplots\n",
    "from sklearn.preprocessing import StandardScaler\n",
    "from sklearn.linear_model import LinearRegression\n",
    "from sklearn.metrics import mean_squared_error\n",
    "from kaleido.scopes.plotly import PlotlyScope"
   ]
  },
  {
   "cell_type": "code",
   "execution_count": 2,
   "id": "5bc39350",
   "metadata": {},
   "outputs": [],
   "source": [
    "try:\n",
    "     geo1 = pd.read_csv('geo_data_0.csv')\n",
    "except:\n",
    "    geo1 = pd.read_csv('/datasets/geo_data_0.csv')\n",
    "    \n",
    "try:\n",
    "     geo2 = pd.read_csv('geo_data_1.csv')\n",
    "except:\n",
    "    geo2 = pd.read_csv('/datasets/geo_data_1.csv')\n",
    "\n",
    "try:\n",
    "     geo3 = pd.read_csv('geo_data_2.csv')\n",
    "except:\n",
    "    geo3 = pd.read_csv('/datasets/geo_data_2.csv')\n",
    "    "
   ]
  },
  {
   "cell_type": "code",
   "execution_count": 3,
   "id": "cf3272d5",
   "metadata": {},
   "outputs": [
    {
     "name": "stdout",
     "output_type": "stream",
     "text": [
      "<class 'pandas.core.frame.DataFrame'>\n",
      "RangeIndex: 100000 entries, 0 to 99999\n",
      "Data columns (total 5 columns):\n",
      " #   Column   Non-Null Count   Dtype  \n",
      "---  ------   --------------   -----  \n",
      " 0   id       100000 non-null  object \n",
      " 1   f0       100000 non-null  float64\n",
      " 2   f1       100000 non-null  float64\n",
      " 3   f2       100000 non-null  float64\n",
      " 4   product  100000 non-null  float64\n",
      "dtypes: float64(4), object(1)\n",
      "memory usage: 3.8+ MB\n"
     ]
    },
    {
     "data": {
      "text/html": [
       "<div>\n",
       "<style scoped>\n",
       "    .dataframe tbody tr th:only-of-type {\n",
       "        vertical-align: middle;\n",
       "    }\n",
       "\n",
       "    .dataframe tbody tr th {\n",
       "        vertical-align: top;\n",
       "    }\n",
       "\n",
       "    .dataframe thead th {\n",
       "        text-align: right;\n",
       "    }\n",
       "</style>\n",
       "<table border=\"1\" class=\"dataframe\">\n",
       "  <thead>\n",
       "    <tr style=\"text-align: right;\">\n",
       "      <th></th>\n",
       "      <th>id</th>\n",
       "      <th>f0</th>\n",
       "      <th>f1</th>\n",
       "      <th>f2</th>\n",
       "      <th>product</th>\n",
       "    </tr>\n",
       "  </thead>\n",
       "  <tbody>\n",
       "    <tr>\n",
       "      <th>78941</th>\n",
       "      <td>td7xa</td>\n",
       "      <td>1.812594</td>\n",
       "      <td>-0.182042</td>\n",
       "      <td>0.463241</td>\n",
       "      <td>70.886257</td>\n",
       "    </tr>\n",
       "    <tr>\n",
       "      <th>80719</th>\n",
       "      <td>g1DQ6</td>\n",
       "      <td>-0.100515</td>\n",
       "      <td>0.310996</td>\n",
       "      <td>6.360285</td>\n",
       "      <td>86.360455</td>\n",
       "    </tr>\n",
       "    <tr>\n",
       "      <th>16536</th>\n",
       "      <td>tzYLo</td>\n",
       "      <td>-0.871081</td>\n",
       "      <td>0.235764</td>\n",
       "      <td>3.829985</td>\n",
       "      <td>27.646291</td>\n",
       "    </tr>\n",
       "    <tr>\n",
       "      <th>67154</th>\n",
       "      <td>VrSUA</td>\n",
       "      <td>-0.871179</td>\n",
       "      <td>0.521325</td>\n",
       "      <td>0.172397</td>\n",
       "      <td>25.683121</td>\n",
       "    </tr>\n",
       "  </tbody>\n",
       "</table>\n",
       "</div>"
      ],
      "text/plain": [
       "          id        f0        f1        f2    product\n",
       "78941  td7xa  1.812594 -0.182042  0.463241  70.886257\n",
       "80719  g1DQ6 -0.100515  0.310996  6.360285  86.360455\n",
       "16536  tzYLo -0.871081  0.235764  3.829985  27.646291\n",
       "67154  VrSUA -0.871179  0.521325  0.172397  25.683121"
      ]
     },
     "execution_count": 3,
     "metadata": {},
     "output_type": "execute_result"
    }
   ],
   "source": [
    "# sample of geo1, see if ther's any missing values:\n",
    "geo1.info()\n",
    "geo1.sample(4)"
   ]
  },
  {
   "cell_type": "code",
   "execution_count": 4,
   "id": "6afef53b",
   "metadata": {},
   "outputs": [
    {
     "data": {
      "text/html": [
       "<div>\n",
       "<style scoped>\n",
       "    .dataframe tbody tr th:only-of-type {\n",
       "        vertical-align: middle;\n",
       "    }\n",
       "\n",
       "    .dataframe tbody tr th {\n",
       "        vertical-align: top;\n",
       "    }\n",
       "\n",
       "    .dataframe thead th {\n",
       "        text-align: right;\n",
       "    }\n",
       "</style>\n",
       "<table border=\"1\" class=\"dataframe\">\n",
       "  <thead>\n",
       "    <tr style=\"text-align: right;\">\n",
       "      <th></th>\n",
       "      <th>id</th>\n",
       "      <th>f0</th>\n",
       "      <th>f1</th>\n",
       "      <th>f2</th>\n",
       "      <th>product</th>\n",
       "    </tr>\n",
       "  </thead>\n",
       "  <tbody>\n",
       "  </tbody>\n",
       "</table>\n",
       "</div>"
      ],
      "text/plain": [
       "Empty DataFrame\n",
       "Columns: [id, f0, f1, f2, product]\n",
       "Index: []"
      ]
     },
     "execution_count": 4,
     "metadata": {},
     "output_type": "execute_result"
    }
   ],
   "source": [
    "# geo1 check for duplicated rows:\n",
    "geo1[geo1.duplicated()==True]"
   ]
  },
  {
   "cell_type": "code",
   "execution_count": 5,
   "id": "39b42234",
   "metadata": {},
   "outputs": [
    {
     "data": {
      "text/html": [
       "<div>\n",
       "<style scoped>\n",
       "    .dataframe tbody tr th:only-of-type {\n",
       "        vertical-align: middle;\n",
       "    }\n",
       "\n",
       "    .dataframe tbody tr th {\n",
       "        vertical-align: top;\n",
       "    }\n",
       "\n",
       "    .dataframe thead th {\n",
       "        text-align: right;\n",
       "    }\n",
       "</style>\n",
       "<table border=\"1\" class=\"dataframe\">\n",
       "  <thead>\n",
       "    <tr style=\"text-align: right;\">\n",
       "      <th></th>\n",
       "      <th>count</th>\n",
       "      <th>unique</th>\n",
       "      <th>top</th>\n",
       "      <th>freq</th>\n",
       "      <th>mean</th>\n",
       "      <th>std</th>\n",
       "      <th>min</th>\n",
       "      <th>25%</th>\n",
       "      <th>50%</th>\n",
       "      <th>75%</th>\n",
       "      <th>max</th>\n",
       "    </tr>\n",
       "  </thead>\n",
       "  <tbody>\n",
       "    <tr>\n",
       "      <th>id</th>\n",
       "      <td>100000</td>\n",
       "      <td>99990</td>\n",
       "      <td>fiKDv</td>\n",
       "      <td>2</td>\n",
       "      <td>NaN</td>\n",
       "      <td>NaN</td>\n",
       "      <td>NaN</td>\n",
       "      <td>NaN</td>\n",
       "      <td>NaN</td>\n",
       "      <td>NaN</td>\n",
       "      <td>NaN</td>\n",
       "    </tr>\n",
       "    <tr>\n",
       "      <th>f0</th>\n",
       "      <td>100000.0</td>\n",
       "      <td>NaN</td>\n",
       "      <td>NaN</td>\n",
       "      <td>NaN</td>\n",
       "      <td>0.500419</td>\n",
       "      <td>0.871832</td>\n",
       "      <td>-1.408605</td>\n",
       "      <td>-0.07258</td>\n",
       "      <td>0.50236</td>\n",
       "      <td>1.073581</td>\n",
       "      <td>2.362331</td>\n",
       "    </tr>\n",
       "    <tr>\n",
       "      <th>f1</th>\n",
       "      <td>100000.0</td>\n",
       "      <td>NaN</td>\n",
       "      <td>NaN</td>\n",
       "      <td>NaN</td>\n",
       "      <td>0.250143</td>\n",
       "      <td>0.504433</td>\n",
       "      <td>-0.848218</td>\n",
       "      <td>-0.200881</td>\n",
       "      <td>0.250252</td>\n",
       "      <td>0.700646</td>\n",
       "      <td>1.343769</td>\n",
       "    </tr>\n",
       "    <tr>\n",
       "      <th>f2</th>\n",
       "      <td>100000.0</td>\n",
       "      <td>NaN</td>\n",
       "      <td>NaN</td>\n",
       "      <td>NaN</td>\n",
       "      <td>2.502647</td>\n",
       "      <td>3.248248</td>\n",
       "      <td>-12.088328</td>\n",
       "      <td>0.287748</td>\n",
       "      <td>2.515969</td>\n",
       "      <td>4.715088</td>\n",
       "      <td>16.00379</td>\n",
       "    </tr>\n",
       "    <tr>\n",
       "      <th>product</th>\n",
       "      <td>100000.0</td>\n",
       "      <td>NaN</td>\n",
       "      <td>NaN</td>\n",
       "      <td>NaN</td>\n",
       "      <td>92.5</td>\n",
       "      <td>44.288691</td>\n",
       "      <td>0.0</td>\n",
       "      <td>56.497507</td>\n",
       "      <td>91.849972</td>\n",
       "      <td>128.564089</td>\n",
       "      <td>185.364347</td>\n",
       "    </tr>\n",
       "  </tbody>\n",
       "</table>\n",
       "</div>"
      ],
      "text/plain": [
       "            count unique    top freq      mean        std        min  \\\n",
       "id         100000  99990  fiKDv    2       NaN        NaN        NaN   \n",
       "f0       100000.0    NaN    NaN  NaN  0.500419   0.871832  -1.408605   \n",
       "f1       100000.0    NaN    NaN  NaN  0.250143   0.504433  -0.848218   \n",
       "f2       100000.0    NaN    NaN  NaN  2.502647   3.248248 -12.088328   \n",
       "product  100000.0    NaN    NaN  NaN      92.5  44.288691        0.0   \n",
       "\n",
       "               25%        50%         75%         max  \n",
       "id             NaN        NaN         NaN         NaN  \n",
       "f0        -0.07258    0.50236    1.073581    2.362331  \n",
       "f1       -0.200881   0.250252    0.700646    1.343769  \n",
       "f2        0.287748   2.515969    4.715088    16.00379  \n",
       "product  56.497507  91.849972  128.564089  185.364347  "
      ]
     },
     "execution_count": 5,
     "metadata": {},
     "output_type": "execute_result"
    }
   ],
   "source": [
    "# Columns genral info: \n",
    "geo1.describe(include='all').T"
   ]
  },
  {
   "cell_type": "code",
   "execution_count": 6,
   "id": "f43fbae7",
   "metadata": {},
   "outputs": [
    {
     "name": "stdout",
     "output_type": "stream",
     "text": [
      "<class 'pandas.core.frame.DataFrame'>\n",
      "RangeIndex: 100000 entries, 0 to 99999\n",
      "Data columns (total 5 columns):\n",
      " #   Column   Non-Null Count   Dtype  \n",
      "---  ------   --------------   -----  \n",
      " 0   id       100000 non-null  object \n",
      " 1   f0       100000 non-null  float64\n",
      " 2   f1       100000 non-null  float64\n",
      " 3   f2       100000 non-null  float64\n",
      " 4   product  100000 non-null  float64\n",
      "dtypes: float64(4), object(1)\n",
      "memory usage: 3.8+ MB\n"
     ]
    },
    {
     "data": {
      "text/html": [
       "<div>\n",
       "<style scoped>\n",
       "    .dataframe tbody tr th:only-of-type {\n",
       "        vertical-align: middle;\n",
       "    }\n",
       "\n",
       "    .dataframe tbody tr th {\n",
       "        vertical-align: top;\n",
       "    }\n",
       "\n",
       "    .dataframe thead th {\n",
       "        text-align: right;\n",
       "    }\n",
       "</style>\n",
       "<table border=\"1\" class=\"dataframe\">\n",
       "  <thead>\n",
       "    <tr style=\"text-align: right;\">\n",
       "      <th></th>\n",
       "      <th>id</th>\n",
       "      <th>f0</th>\n",
       "      <th>f1</th>\n",
       "      <th>f2</th>\n",
       "      <th>product</th>\n",
       "    </tr>\n",
       "  </thead>\n",
       "  <tbody>\n",
       "    <tr>\n",
       "      <th>40964</th>\n",
       "      <td>86dti</td>\n",
       "      <td>7.129911</td>\n",
       "      <td>-2.754437</td>\n",
       "      <td>5.003691</td>\n",
       "      <td>134.766305</td>\n",
       "    </tr>\n",
       "    <tr>\n",
       "      <th>42705</th>\n",
       "      <td>l6U6l</td>\n",
       "      <td>8.198468</td>\n",
       "      <td>-7.028314</td>\n",
       "      <td>1.995953</td>\n",
       "      <td>53.906522</td>\n",
       "    </tr>\n",
       "    <tr>\n",
       "      <th>47603</th>\n",
       "      <td>aQHeR</td>\n",
       "      <td>6.978458</td>\n",
       "      <td>-9.392525</td>\n",
       "      <td>1.994919</td>\n",
       "      <td>53.906522</td>\n",
       "    </tr>\n",
       "    <tr>\n",
       "      <th>1013</th>\n",
       "      <td>h8miG</td>\n",
       "      <td>6.610657</td>\n",
       "      <td>-2.123644</td>\n",
       "      <td>-0.001567</td>\n",
       "      <td>0.000000</td>\n",
       "    </tr>\n",
       "  </tbody>\n",
       "</table>\n",
       "</div>"
      ],
      "text/plain": [
       "          id        f0        f1        f2     product\n",
       "40964  86dti  7.129911 -2.754437  5.003691  134.766305\n",
       "42705  l6U6l  8.198468 -7.028314  1.995953   53.906522\n",
       "47603  aQHeR  6.978458 -9.392525  1.994919   53.906522\n",
       "1013   h8miG  6.610657 -2.123644 -0.001567    0.000000"
      ]
     },
     "execution_count": 6,
     "metadata": {},
     "output_type": "execute_result"
    }
   ],
   "source": [
    "# sample of geo2, see if ther's any missing values:\n",
    "geo2.info()\n",
    "geo2.sample(4)"
   ]
  },
  {
   "cell_type": "code",
   "execution_count": 7,
   "id": "a2b332bf",
   "metadata": {},
   "outputs": [
    {
     "data": {
      "text/html": [
       "<div>\n",
       "<style scoped>\n",
       "    .dataframe tbody tr th:only-of-type {\n",
       "        vertical-align: middle;\n",
       "    }\n",
       "\n",
       "    .dataframe tbody tr th {\n",
       "        vertical-align: top;\n",
       "    }\n",
       "\n",
       "    .dataframe thead th {\n",
       "        text-align: right;\n",
       "    }\n",
       "</style>\n",
       "<table border=\"1\" class=\"dataframe\">\n",
       "  <thead>\n",
       "    <tr style=\"text-align: right;\">\n",
       "      <th></th>\n",
       "      <th>id</th>\n",
       "      <th>f0</th>\n",
       "      <th>f1</th>\n",
       "      <th>f2</th>\n",
       "      <th>product</th>\n",
       "    </tr>\n",
       "  </thead>\n",
       "  <tbody>\n",
       "  </tbody>\n",
       "</table>\n",
       "</div>"
      ],
      "text/plain": [
       "Empty DataFrame\n",
       "Columns: [id, f0, f1, f2, product]\n",
       "Index: []"
      ]
     },
     "execution_count": 7,
     "metadata": {},
     "output_type": "execute_result"
    }
   ],
   "source": [
    "# geo2 check for duplicated rows:\n",
    "geo2[geo2.duplicated()==True]"
   ]
  },
  {
   "cell_type": "code",
   "execution_count": 8,
   "id": "106896c7",
   "metadata": {
    "scrolled": true
   },
   "outputs": [
    {
     "data": {
      "text/html": [
       "<div>\n",
       "<style scoped>\n",
       "    .dataframe tbody tr th:only-of-type {\n",
       "        vertical-align: middle;\n",
       "    }\n",
       "\n",
       "    .dataframe tbody tr th {\n",
       "        vertical-align: top;\n",
       "    }\n",
       "\n",
       "    .dataframe thead th {\n",
       "        text-align: right;\n",
       "    }\n",
       "</style>\n",
       "<table border=\"1\" class=\"dataframe\">\n",
       "  <thead>\n",
       "    <tr style=\"text-align: right;\">\n",
       "      <th></th>\n",
       "      <th>count</th>\n",
       "      <th>unique</th>\n",
       "      <th>top</th>\n",
       "      <th>freq</th>\n",
       "      <th>mean</th>\n",
       "      <th>std</th>\n",
       "      <th>min</th>\n",
       "      <th>25%</th>\n",
       "      <th>50%</th>\n",
       "      <th>75%</th>\n",
       "      <th>max</th>\n",
       "    </tr>\n",
       "  </thead>\n",
       "  <tbody>\n",
       "    <tr>\n",
       "      <th>id</th>\n",
       "      <td>100000</td>\n",
       "      <td>99996</td>\n",
       "      <td>wt4Uk</td>\n",
       "      <td>2</td>\n",
       "      <td>NaN</td>\n",
       "      <td>NaN</td>\n",
       "      <td>NaN</td>\n",
       "      <td>NaN</td>\n",
       "      <td>NaN</td>\n",
       "      <td>NaN</td>\n",
       "      <td>NaN</td>\n",
       "    </tr>\n",
       "    <tr>\n",
       "      <th>f0</th>\n",
       "      <td>100000.0</td>\n",
       "      <td>NaN</td>\n",
       "      <td>NaN</td>\n",
       "      <td>NaN</td>\n",
       "      <td>1.141296</td>\n",
       "      <td>8.965932</td>\n",
       "      <td>-31.609576</td>\n",
       "      <td>-6.298551</td>\n",
       "      <td>1.153055</td>\n",
       "      <td>8.621015</td>\n",
       "      <td>29.421755</td>\n",
       "    </tr>\n",
       "    <tr>\n",
       "      <th>f1</th>\n",
       "      <td>100000.0</td>\n",
       "      <td>NaN</td>\n",
       "      <td>NaN</td>\n",
       "      <td>NaN</td>\n",
       "      <td>-4.796579</td>\n",
       "      <td>5.119872</td>\n",
       "      <td>-26.358598</td>\n",
       "      <td>-8.267985</td>\n",
       "      <td>-4.813172</td>\n",
       "      <td>-1.332816</td>\n",
       "      <td>18.734063</td>\n",
       "    </tr>\n",
       "    <tr>\n",
       "      <th>f2</th>\n",
       "      <td>100000.0</td>\n",
       "      <td>NaN</td>\n",
       "      <td>NaN</td>\n",
       "      <td>NaN</td>\n",
       "      <td>2.494541</td>\n",
       "      <td>1.703572</td>\n",
       "      <td>-0.018144</td>\n",
       "      <td>1.000021</td>\n",
       "      <td>2.011479</td>\n",
       "      <td>3.999904</td>\n",
       "      <td>5.019721</td>\n",
       "    </tr>\n",
       "    <tr>\n",
       "      <th>product</th>\n",
       "      <td>100000.0</td>\n",
       "      <td>NaN</td>\n",
       "      <td>NaN</td>\n",
       "      <td>NaN</td>\n",
       "      <td>68.825</td>\n",
       "      <td>45.944423</td>\n",
       "      <td>0.0</td>\n",
       "      <td>26.953261</td>\n",
       "      <td>57.085625</td>\n",
       "      <td>107.813044</td>\n",
       "      <td>137.945408</td>\n",
       "    </tr>\n",
       "  </tbody>\n",
       "</table>\n",
       "</div>"
      ],
      "text/plain": [
       "            count unique    top freq      mean        std        min  \\\n",
       "id         100000  99996  wt4Uk    2       NaN        NaN        NaN   \n",
       "f0       100000.0    NaN    NaN  NaN  1.141296   8.965932 -31.609576   \n",
       "f1       100000.0    NaN    NaN  NaN -4.796579   5.119872 -26.358598   \n",
       "f2       100000.0    NaN    NaN  NaN  2.494541   1.703572  -0.018144   \n",
       "product  100000.0    NaN    NaN  NaN    68.825  45.944423        0.0   \n",
       "\n",
       "               25%        50%         75%         max  \n",
       "id             NaN        NaN         NaN         NaN  \n",
       "f0       -6.298551   1.153055    8.621015   29.421755  \n",
       "f1       -8.267985  -4.813172   -1.332816   18.734063  \n",
       "f2        1.000021   2.011479    3.999904    5.019721  \n",
       "product  26.953261  57.085625  107.813044  137.945408  "
      ]
     },
     "execution_count": 8,
     "metadata": {},
     "output_type": "execute_result"
    }
   ],
   "source": [
    "# Columns genral info: \n",
    "geo2.describe(include='all').T"
   ]
  },
  {
   "cell_type": "code",
   "execution_count": 9,
   "id": "d0509c4c",
   "metadata": {},
   "outputs": [
    {
     "name": "stdout",
     "output_type": "stream",
     "text": [
      "<class 'pandas.core.frame.DataFrame'>\n",
      "RangeIndex: 100000 entries, 0 to 99999\n",
      "Data columns (total 5 columns):\n",
      " #   Column   Non-Null Count   Dtype  \n",
      "---  ------   --------------   -----  \n",
      " 0   id       100000 non-null  object \n",
      " 1   f0       100000 non-null  float64\n",
      " 2   f1       100000 non-null  float64\n",
      " 3   f2       100000 non-null  float64\n",
      " 4   product  100000 non-null  float64\n",
      "dtypes: float64(4), object(1)\n",
      "memory usage: 3.8+ MB\n"
     ]
    },
    {
     "data": {
      "text/html": [
       "<div>\n",
       "<style scoped>\n",
       "    .dataframe tbody tr th:only-of-type {\n",
       "        vertical-align: middle;\n",
       "    }\n",
       "\n",
       "    .dataframe tbody tr th {\n",
       "        vertical-align: top;\n",
       "    }\n",
       "\n",
       "    .dataframe thead th {\n",
       "        text-align: right;\n",
       "    }\n",
       "</style>\n",
       "<table border=\"1\" class=\"dataframe\">\n",
       "  <thead>\n",
       "    <tr style=\"text-align: right;\">\n",
       "      <th></th>\n",
       "      <th>id</th>\n",
       "      <th>f0</th>\n",
       "      <th>f1</th>\n",
       "      <th>f2</th>\n",
       "      <th>product</th>\n",
       "    </tr>\n",
       "  </thead>\n",
       "  <tbody>\n",
       "    <tr>\n",
       "      <th>51343</th>\n",
       "      <td>P80IU</td>\n",
       "      <td>-2.868216</td>\n",
       "      <td>-3.005061</td>\n",
       "      <td>6.544596</td>\n",
       "      <td>151.418049</td>\n",
       "    </tr>\n",
       "    <tr>\n",
       "      <th>34584</th>\n",
       "      <td>bweVO</td>\n",
       "      <td>1.512249</td>\n",
       "      <td>0.250301</td>\n",
       "      <td>-5.055785</td>\n",
       "      <td>17.174039</td>\n",
       "    </tr>\n",
       "    <tr>\n",
       "      <th>32534</th>\n",
       "      <td>jvVvp</td>\n",
       "      <td>1.067041</td>\n",
       "      <td>-1.770627</td>\n",
       "      <td>10.149532</td>\n",
       "      <td>177.343671</td>\n",
       "    </tr>\n",
       "    <tr>\n",
       "      <th>79088</th>\n",
       "      <td>S46Dg</td>\n",
       "      <td>3.251420</td>\n",
       "      <td>0.958327</td>\n",
       "      <td>5.647050</td>\n",
       "      <td>156.047559</td>\n",
       "    </tr>\n",
       "  </tbody>\n",
       "</table>\n",
       "</div>"
      ],
      "text/plain": [
       "          id        f0        f1         f2     product\n",
       "51343  P80IU -2.868216 -3.005061   6.544596  151.418049\n",
       "34584  bweVO  1.512249  0.250301  -5.055785   17.174039\n",
       "32534  jvVvp  1.067041 -1.770627  10.149532  177.343671\n",
       "79088  S46Dg  3.251420  0.958327   5.647050  156.047559"
      ]
     },
     "execution_count": 9,
     "metadata": {},
     "output_type": "execute_result"
    }
   ],
   "source": [
    "# sample of geo3, see if ther's any missing values:\n",
    "geo3.info()\n",
    "geo3.sample(4)"
   ]
  },
  {
   "cell_type": "code",
   "execution_count": 10,
   "id": "ff6beb74",
   "metadata": {},
   "outputs": [
    {
     "data": {
      "text/html": [
       "<div>\n",
       "<style scoped>\n",
       "    .dataframe tbody tr th:only-of-type {\n",
       "        vertical-align: middle;\n",
       "    }\n",
       "\n",
       "    .dataframe tbody tr th {\n",
       "        vertical-align: top;\n",
       "    }\n",
       "\n",
       "    .dataframe thead th {\n",
       "        text-align: right;\n",
       "    }\n",
       "</style>\n",
       "<table border=\"1\" class=\"dataframe\">\n",
       "  <thead>\n",
       "    <tr style=\"text-align: right;\">\n",
       "      <th></th>\n",
       "      <th>count</th>\n",
       "      <th>unique</th>\n",
       "      <th>top</th>\n",
       "      <th>freq</th>\n",
       "      <th>mean</th>\n",
       "      <th>std</th>\n",
       "      <th>min</th>\n",
       "      <th>25%</th>\n",
       "      <th>50%</th>\n",
       "      <th>75%</th>\n",
       "      <th>max</th>\n",
       "    </tr>\n",
       "  </thead>\n",
       "  <tbody>\n",
       "    <tr>\n",
       "      <th>id</th>\n",
       "      <td>100000</td>\n",
       "      <td>99996</td>\n",
       "      <td>VF7Jo</td>\n",
       "      <td>2</td>\n",
       "      <td>NaN</td>\n",
       "      <td>NaN</td>\n",
       "      <td>NaN</td>\n",
       "      <td>NaN</td>\n",
       "      <td>NaN</td>\n",
       "      <td>NaN</td>\n",
       "      <td>NaN</td>\n",
       "    </tr>\n",
       "    <tr>\n",
       "      <th>f0</th>\n",
       "      <td>100000.0</td>\n",
       "      <td>NaN</td>\n",
       "      <td>NaN</td>\n",
       "      <td>NaN</td>\n",
       "      <td>0.002023</td>\n",
       "      <td>1.732045</td>\n",
       "      <td>-8.760004</td>\n",
       "      <td>-1.162288</td>\n",
       "      <td>0.009424</td>\n",
       "      <td>1.158535</td>\n",
       "      <td>7.238262</td>\n",
       "    </tr>\n",
       "    <tr>\n",
       "      <th>f1</th>\n",
       "      <td>100000.0</td>\n",
       "      <td>NaN</td>\n",
       "      <td>NaN</td>\n",
       "      <td>NaN</td>\n",
       "      <td>-0.002081</td>\n",
       "      <td>1.730417</td>\n",
       "      <td>-7.08402</td>\n",
       "      <td>-1.17482</td>\n",
       "      <td>-0.009482</td>\n",
       "      <td>1.163678</td>\n",
       "      <td>7.844801</td>\n",
       "    </tr>\n",
       "    <tr>\n",
       "      <th>f2</th>\n",
       "      <td>100000.0</td>\n",
       "      <td>NaN</td>\n",
       "      <td>NaN</td>\n",
       "      <td>NaN</td>\n",
       "      <td>2.495128</td>\n",
       "      <td>3.473445</td>\n",
       "      <td>-11.970335</td>\n",
       "      <td>0.130359</td>\n",
       "      <td>2.484236</td>\n",
       "      <td>4.858794</td>\n",
       "      <td>16.739402</td>\n",
       "    </tr>\n",
       "    <tr>\n",
       "      <th>product</th>\n",
       "      <td>100000.0</td>\n",
       "      <td>NaN</td>\n",
       "      <td>NaN</td>\n",
       "      <td>NaN</td>\n",
       "      <td>95.0</td>\n",
       "      <td>44.749921</td>\n",
       "      <td>0.0</td>\n",
       "      <td>59.450441</td>\n",
       "      <td>94.925613</td>\n",
       "      <td>130.595027</td>\n",
       "      <td>190.029838</td>\n",
       "    </tr>\n",
       "  </tbody>\n",
       "</table>\n",
       "</div>"
      ],
      "text/plain": [
       "            count unique    top freq      mean        std        min  \\\n",
       "id         100000  99996  VF7Jo    2       NaN        NaN        NaN   \n",
       "f0       100000.0    NaN    NaN  NaN  0.002023   1.732045  -8.760004   \n",
       "f1       100000.0    NaN    NaN  NaN -0.002081   1.730417   -7.08402   \n",
       "f2       100000.0    NaN    NaN  NaN  2.495128   3.473445 -11.970335   \n",
       "product  100000.0    NaN    NaN  NaN      95.0  44.749921        0.0   \n",
       "\n",
       "               25%        50%         75%         max  \n",
       "id             NaN        NaN         NaN         NaN  \n",
       "f0       -1.162288   0.009424    1.158535    7.238262  \n",
       "f1        -1.17482  -0.009482    1.163678    7.844801  \n",
       "f2        0.130359   2.484236    4.858794   16.739402  \n",
       "product  59.450441  94.925613  130.595027  190.029838  "
      ]
     },
     "execution_count": 10,
     "metadata": {},
     "output_type": "execute_result"
    }
   ],
   "source": [
    "# Columns genral info: \n",
    "geo3.describe(include='all').T"
   ]
  },
  {
   "cell_type": "code",
   "execution_count": 11,
   "id": "687170d0",
   "metadata": {},
   "outputs": [
    {
     "data": {
      "text/html": [
       "<div>\n",
       "<style scoped>\n",
       "    .dataframe tbody tr th:only-of-type {\n",
       "        vertical-align: middle;\n",
       "    }\n",
       "\n",
       "    .dataframe tbody tr th {\n",
       "        vertical-align: top;\n",
       "    }\n",
       "\n",
       "    .dataframe thead th {\n",
       "        text-align: right;\n",
       "    }\n",
       "</style>\n",
       "<table border=\"1\" class=\"dataframe\">\n",
       "  <thead>\n",
       "    <tr style=\"text-align: right;\">\n",
       "      <th></th>\n",
       "      <th>id</th>\n",
       "      <th>f0</th>\n",
       "      <th>f1</th>\n",
       "      <th>f2</th>\n",
       "      <th>product</th>\n",
       "    </tr>\n",
       "  </thead>\n",
       "  <tbody>\n",
       "  </tbody>\n",
       "</table>\n",
       "</div>"
      ],
      "text/plain": [
       "Empty DataFrame\n",
       "Columns: [id, f0, f1, f2, product]\n",
       "Index: []"
      ]
     },
     "execution_count": 11,
     "metadata": {},
     "output_type": "execute_result"
    }
   ],
   "source": [
    "# geo3 check for duplicated rows:\n",
    "geo3[geo3.duplicated()==True]"
   ]
  },
  {
   "cell_type": "markdown",
   "id": "df2ead75",
   "metadata": {},
   "source": [
    "**There are no duplicates or missing values in non of the dataframes.** \n",
    "* Its shown by the describe tables that region 2 has the lowest product volume."
   ]
  },
  {
   "cell_type": "markdown",
   "id": "8c503fa4",
   "metadata": {},
   "source": [
    "### 2. Train and test the model for each region:"
   ]
  },
  {
   "cell_type": "markdown",
   "id": "cc4ec2a2",
   "metadata": {},
   "source": [
    "#### 2.1 Split the data into a training set and validation\n",
    "* Create a function \"split_df\"\n",
    "    * The function accepts features(x) and target(y)\n",
    "    * Split x and y into:\n",
    "        * 75% train set\n",
    "        * 12.5% validation set \n",
    "        * 12.5% test set \n",
    "    * Feature scaling x_train, x_valid, x_test\n",
    "    * Plot an overlaping histograms for the diffrent target(y) to make sure the distribution are similar.\n",
    "    * Return: \n",
    "        * x_train (scaled),\n",
    "        * x_valid (scaled),\n",
    "        * x_test (scaled),\n",
    "        * y_train,\n",
    "        * y_valid,\n",
    "        * y_test"
   ]
  },
  {
   "cell_type": "code",
   "execution_count": 20,
   "id": "e80da4d1",
   "metadata": {},
   "outputs": [],
   "source": [
    "def split_df(x, y):\n",
    "    x_train, x_test, y_train, y_test  = train_test_split(x,\n",
    "                                                         y,\n",
    "                                                         train_size = 0.75,\n",
    "                                                         random_state=12345) \n",
    "\n",
    "\n",
    "    scaler = StandardScaler()\n",
    "    scaler.fit(x_train) \n",
    "    x_train = scaler.transform(x_train)\n",
    "    x_test = scaler.transform(x_test)\n",
    "    \n",
    "#     fig1 = go.Figure()\n",
    "#     fig1.add_trace(go.Histogram(x=y_train, name = 'y_train'))\n",
    "#     fig1.add_trace(go.Histogram(x=y_test, name = 'y_test'))\n",
    "\n",
    "#     # Overlay both histograms\n",
    "#     fig1.update_layout(barmode='overlay')\n",
    "#     # Reduce opacity to see both histograms\n",
    "#     fig1.update_layout(yaxis_title = 'distribution',\n",
    "#                        xaxis_title = 'Target: volume of reserves in the oil well [thousand barrels]',\n",
    "#                        title_text=\"target_train & target_test distribution\")\n",
    "\n",
    "#     fig1.update_traces(opacity=0.50)\n",
    "#     fig1.write_image(\"figure.png\", engine=\"kaleido\")\n",
    "#     fig1.show()\n",
    "    \n",
    "    return x_train, x_test, y_train, y_test"
   ]
  },
  {
   "cell_type": "markdown",
   "id": "0f756705",
   "metadata": {},
   "source": [
    "##### 2.11 geo1 feature scaling:"
   ]
  },
  {
   "cell_type": "code",
   "execution_count": 18,
   "id": "4e7e66af",
   "metadata": {
    "scrolled": false
   },
   "outputs": [
    {
     "name": "stdout",
     "output_type": "stream",
     "text": [
      "x1_train: 75000\n",
      "x1_test: 25000\n",
      "y1_train: 75000\n",
      "y1_test: 25000\n"
     ]
    }
   ],
   "source": [
    "\n",
    "x1 = geo1.drop(['id', 'product'], axis=1)\n",
    "y1 = geo1['product']\n",
    "\n",
    "x1_train, x1_test, y1_train, y1_test = split_df(x1, y1)\n",
    "\n",
    "print('x1_train:', len(x1_train))\n",
    "print('x1_test:', len(x1_test))\n",
    "print('y1_train:', len(y1_train))\n",
    "print('y1_test:', len(y1_test))"
   ]
  },
  {
   "attachments": {
    "figure.png": {
     "image/png": "[encoded data removed]"
    }
   },
   "cell_type": "markdown",
   "id": "2fa8a850",
   "metadata": {},
   "source": [
    "![figure.png](attachment:figure.png)"
   ]
  },
  {
   "cell_type": "markdown",
   "id": "f8305c3b",
   "metadata": {},
   "source": [
    "**The targets values have similar distribution**"
   ]
  },
  {
   "cell_type": "markdown",
   "id": "0df91418",
   "metadata": {},
   "source": [
    "##### 2.12 geo2 feature scaling:"
   ]
  },
  {
   "cell_type": "code",
   "execution_count": 21,
   "id": "4f635872",
   "metadata": {},
   "outputs": [
    {
     "name": "stdout",
     "output_type": "stream",
     "text": [
      "x2_train: 75000\n",
      "x2_test: 25000\n",
      "y2_train: 75000\n",
      "y2_test: 25000\n"
     ]
    }
   ],
   "source": [
    "\n",
    "x2 = geo2.drop(['id', 'product'], axis=1)\n",
    "y2 = geo2['product']\n",
    "\n",
    "x2_train, x2_test, y2_train, y2_test = split_df(x2, y2)\n",
    "\n",
    "print('x2_train:', len(x2_train))\n",
    "print('x2_test:', len(x2_test))\n",
    "print('y2_train:', len(y2_train))\n",
    "print('y2_test:', len(y2_test))"
   ]
  },
  {
   "attachments": {
    "newplot%20%282%29.png": {
     "image/png": "[encoded data removed]"
    }
   },
   "cell_type": "markdown",
   "id": "25885b80",
   "metadata": {},
   "source": [
    "![newplot%20%282%29.png](attachment:newplot%20%282%29.png)"
   ]
  },
  {
   "cell_type": "markdown",
   "id": "daeaaa63",
   "metadata": {},
   "source": [
    "**The targets values have similar distribution**"
   ]
  },
  {
   "cell_type": "markdown",
   "id": "8fef4593",
   "metadata": {},
   "source": [
    "##### 2.13 geo3 feature scaling:"
   ]
  },
  {
   "cell_type": "code",
   "execution_count": 22,
   "id": "70a6baf6",
   "metadata": {},
   "outputs": [
    {
     "name": "stdout",
     "output_type": "stream",
     "text": [
      "x3_train: 75000\n",
      "x3_test: 25000\n",
      "y3_train: 75000\n",
      "y3_test: 25000\n"
     ]
    }
   ],
   "source": [
    "\n",
    "x3 = geo3.drop(['id', 'product'], axis=1)\n",
    "y3 = geo3['product']\n",
    "\n",
    "x3_train, x3_test, y3_train, y3_test = split_df(x3, y3)\n",
    "\n",
    "print('x3_train:', len(x3_train))\n",
    "print('x3_test:', len(x3_test))\n",
    "print('y3_train:', len(y3_train))\n",
    "print('y3_test:', len(y3_test))"
   ]
  },
  {
   "attachments": {
    "newplot3.png": {
     "image/png": "[encoded data removed]"
    }
   },
   "cell_type": "markdown",
   "id": "268307b9",
   "metadata": {},
   "source": [
    "![newplot3.png](attachment:newplot3.png)"
   ]
  },
  {
   "cell_type": "markdown",
   "id": "db802697",
   "metadata": {},
   "source": [
    "**The targets values have similar distribution**"
   ]
  },
  {
   "cell_type": "markdown",
   "id": "a1631d8f",
   "metadata": {},
   "source": [
    "#### 2.2 Train the model and make predictions for the validation set\n",
    "\n",
    "\n",
    "\n"
   ]
  },
  {
   "cell_type": "markdown",
   "id": "b7f8abd5",
   "metadata": {},
   "source": [
    "* Only linear regression is suitable for model training (the rest are not sufficiently predictable).\n",
    "* we are going to:\n",
    "    * train the models, \n",
    "    * predict the volume of reseves based on the different features for different region \n",
    "    * calculate the average volume of predicted reserves for different regions\n",
    "    * calculate the RMSD(root-mean-square deviation)"
   ]
  },
  {
   "cell_type": "markdown",
   "id": "74973381",
   "metadata": {},
   "source": [
    "##### 2.2.1 train model for region1:"
   ]
  },
  {
   "cell_type": "code",
   "execution_count": 27,
   "id": "82bb5af7",
   "metadata": {},
   "outputs": [
    {
     "name": "stdout",
     "output_type": "stream",
     "text": [
      "The average volume of predicted reserves on region 1:  92.59256778438035\n",
      "The average given volume of reserves for region 1:  92.49999999999974\n",
      "RMSE of the linear regression model1, for region 1: 37.5794217150813\n"
     ]
    }
   ],
   "source": [
    "model1 = LinearRegression()\n",
    "model1.fit(x1_train, y1_train) # train model on training set\n",
    "predictions1 = model1.predict(x1_test) # get model predictions on validation set\n",
    "print('The average volume of predicted reserves on region 1: ', predictions1.mean())\n",
    "print('The average given volume of reserves for region 1: ', geo1['product'].mean())\n",
    "result1 = mean_squared_error(y1_test, predictions1)**0.5 # calculate RMSD\n",
    "print(\"RMSE of the linear regression model1, for region 1:\", result1)"
   ]
  },
  {
   "cell_type": "markdown",
   "id": "81194ffd",
   "metadata": {},
   "source": [
    "**For region 1:**\n",
    "* The average volume of predicted reserves 92.6 thousand barrels\n",
    "* RMSD is 37.6 which mean that ther's a possible error of 37.6 thousand barrels"
   ]
  },
  {
   "cell_type": "markdown",
   "id": "74bb4254",
   "metadata": {},
   "source": [
    "##### 2.2.2 train model for region2:"
   ]
  },
  {
   "cell_type": "code",
   "execution_count": 28,
   "id": "20ad81f9",
   "metadata": {},
   "outputs": [
    {
     "name": "stdout",
     "output_type": "stream",
     "text": [
      "The average volume of predicted reserves for region 2:  68.728546895446\n",
      "The average given volume of reserves for region 2:  68.82500000002561\n",
      "RMSE of the linear regression model2, for region 2: 0.8930992867756168\n"
     ]
    }
   ],
   "source": [
    "model2 = LinearRegression()\n",
    "model2.fit(x2_train, y2_train) # train model on training set\n",
    "predictions2 = model2.predict(x2_test) # get model predictions on validation set\n",
    "print('The average volume of predicted reserves for region 2: ', predictions2.mean())\n",
    "print('The average given volume of reserves for region 2: ', geo2['product'].mean())\n",
    "result2 = mean_squared_error(y2_test, predictions2)**0.5 # calculate RMSD\n",
    "print(\"RMSE of the linear regression model2, for region 2:\", result2)"
   ]
  },
  {
   "cell_type": "markdown",
   "id": "b2d4984a",
   "metadata": {},
   "source": [
    "**For region 2:**\n",
    "* The average volume of predicted reserves is 68.73 thousand barrels\n",
    "* RMSD is 0.9 which mean that ther's a possible error of 0.9 thousand barrels"
   ]
  },
  {
   "cell_type": "markdown",
   "id": "fb9c6659",
   "metadata": {},
   "source": [
    "##### 2.2.3 train model for region3:"
   ]
  },
  {
   "cell_type": "code",
   "execution_count": 29,
   "id": "f6d1543e",
   "metadata": {},
   "outputs": [
    {
     "name": "stdout",
     "output_type": "stream",
     "text": [
      "The average volume of predicted reserves for region 3:  94.96504596800489\n",
      "The average given volume of reserves for region 3:  95.00000000000041\n",
      "RMSE of the linear regression model3, for region 3: 40.02970873393434\n"
     ]
    }
   ],
   "source": [
    "model3 = LinearRegression()\n",
    "model3.fit(x3_train, y3_train) # train model on training set\n",
    "predictions3 = model3.predict(x3_test) # get model predictions on validation set\n",
    "print('The average volume of predicted reserves for region 3: ', predictions3.mean())\n",
    "print('The average given volume of reserves for region 3: ', geo3['product'].mean())\n",
    "result3 = mean_squared_error(y3_test, predictions3)**0.5 # calculate RMSD\n",
    "print(\"RMSE of the linear regression model3, for region 3:\", result3)"
   ]
  },
  {
   "cell_type": "markdown",
   "id": "141a035b",
   "metadata": {},
   "source": [
    "**For region 3:**\n",
    "* The average volume of predicted reserves 95 thousand barrels\n",
    "* RMSD is 40 which mean that ther's a possible error of 40 thousand barrels"
   ]
  },
  {
   "cell_type": "markdown",
   "id": "2f71f286",
   "metadata": {},
   "source": [
    "#### 2.3 Analyze the results"
   ]
  },
  {
   "cell_type": "code",
   "execution_count": 23,
   "id": "63477b78",
   "metadata": {},
   "outputs": [],
   "source": [
    "# fig = go.Figure()\n",
    "\n",
    "# fig.add_trace(go.Violin(name = 'region 1',\n",
    "#                         y =  predictions1,\n",
    "#                         box_visible=True,\n",
    "#                         meanline_visible=True))\n",
    "\n",
    "# fig.add_trace(go.Violin(name = 'region 2',\n",
    "#                         y =  predictions2,\n",
    "#                         box_visible=True,\n",
    "#                         meanline_visible=True))\n",
    "\n",
    "# fig.add_trace(go.Violin(name = 'region 3',\n",
    "#                         y = predictions3,\n",
    "#                         box_visible=True,\n",
    "#                         meanline_visible=True))\n",
    "# fig.update_layout(title_text=\"Predictions by region distribution\")\n",
    "# fig.show()"
   ]
  },
  {
   "attachments": {
    "newplot4.png": {
     "image/png": "[encoded data removed]"
    }
   },
   "cell_type": "markdown",
   "id": "5c61e80f",
   "metadata": {},
   "source": [
    "![newplot4.png](attachment:newplot4.png)"
   ]
  },
  {
   "cell_type": "markdown",
   "id": "38701314",
   "metadata": {},
   "source": [
    "By the graphs above it clear to see:\n",
    "\n",
    "   * The predictions on region 2 are inconsistent and have the lowest RSM fromthr three regions.\n",
    "   * Regions 1 and 3  have almost the same distributions:\n",
    "       * For region 1:\n",
    "            * The average volume of predicted reserves 92.6 thousand barrels inconsistent\n",
    "            * RMSD is 37.6 which mean that ther's a possible error of 37.6 thousand barrels\n",
    "        * For region 3:\n",
    "            * The average volume of predicted reserves 95 thousand barrels\n",
    "            * RMSD is 40 which mean that ther's a possible error of 40 thousand barrels"
   ]
  },
  {
   "cell_type": "markdown",
   "id": "a1bb8f28",
   "metadata": {},
   "source": [
    "### 3. Prepare for profit calculation:    "
   ]
  },
  {
   "cell_type": "markdown",
   "id": "02f36a87",
   "metadata": {},
   "source": [
    "Key values for calculations: \n",
    "   * The budget for development of 200 oil wells is 100 USD million.\n",
    "   * One barrel of raw materials brings 4.5 USD of revenue\n",
    "   * The revenue from one unit of product is 4,500 dollars (volume of reserves is in thousand barrels)."
   ]
  },
  {
   "cell_type": "code",
   "execution_count": 30,
   "id": "5fe741ee",
   "metadata": {},
   "outputs": [
    {
     "data": {
      "text/plain": [
       "111"
      ]
     },
     "execution_count": 30,
     "metadata": {},
     "output_type": "execute_result"
    }
   ],
   "source": [
    "# Key values for profit calculations: \n",
    "budget_200 = 100 * 10 ** 6\n",
    "budget_1 = budget_200/200\n",
    "revenue_raw = 4.5\n",
    "volume_of_reserves = 1000\n",
    "unit_revenue = revenue_raw * volume_of_reserves\n",
    "# The volume of reserves sufficient for developing a new well without losses: \n",
    "round(budget_1 / unit_revenue)"
   ]
  },
  {
   "cell_type": "markdown",
   "id": "991a033c",
   "metadata": {},
   "source": [
    "**Comparison between the obtained value with the average volume of reserves in each region:**\n",
    "\n",
    "   * Product value **need** to be greater then **111** thousand barrels in order to developing a new well without losses.\n",
    "   * **For region 1:** The average volume of predicted reserves **92.6** thousand barrels\n",
    "   * **For region 2:** The average volume of predicted reserves **68.73** thousand barrels\n",
    "   * **For region 3:** The average volume of predicted reserves **95** thousand barrels"
   ]
  },
  {
   "cell_type": "markdown",
   "id": "a957500d",
   "metadata": {},
   "source": [
    "### 4.  Profit estimation: "
   ]
  },
  {
   "cell_type": "markdown",
   "id": "d9e28e0a",
   "metadata": {},
   "source": [
    "* Define function who calculate and return the top 200 wells of set of selected oil wells and model predictions,\n",
    "* Summarize the target volume of reserves in accordance with these predictions,\n",
    "* Provide findings and calculate the profit for the obtained volume of reserves."
   ]
  },
  {
   "cell_type": "code",
   "execution_count": 31,
   "id": "2003e0b9",
   "metadata": {},
   "outputs": [],
   "source": [
    "predictions1 = pd.Series(predictions1)\n",
    "predictions2 = pd.Series(predictions2)\n",
    "predictions3 = pd.Series(predictions3)\n",
    "y1_test = pd.Series(y1_test).reset_index(drop = True)\n",
    "y2_test = pd.Series(y2_test).reset_index(drop = True)\n",
    "y3_test = pd.Series(y3_test).reset_index(drop = True)\n",
    "\n",
    "reg1 = pd.concat([y1_test, predictions1], axis=1, join=\"inner\")\n",
    "reg1.columns = ['target', 'pred']\n",
    "\n",
    "reg2 = pd.concat([y2_test, predictions2], axis=1, join=\"inner\")\n",
    "reg2.columns = ['target', 'pred']\n",
    "\n",
    "reg3 = pd.concat([y3_test, predictions3], axis=1, join=\"inner\")\n",
    "reg3.columns = ['target', 'pred']"
   ]
  },
  {
   "cell_type": "code",
   "execution_count": 32,
   "id": "2d0ebfaa",
   "metadata": {},
   "outputs": [
    {
     "name": "stdout",
     "output_type": "stream",
     "text": [
      "region 1 length:  25000\n",
      "region 2 length:  25000\n",
      "region 3 length:  25000\n"
     ]
    }
   ],
   "source": [
    "print('region 1 length: ', len(reg1))\n",
    "print('region 2 length: ', len(reg2))\n",
    "print('region 3 length: ', len(reg3))"
   ]
  },
  {
   "cell_type": "code",
   "execution_count": 33,
   "id": "221e2d59",
   "metadata": {},
   "outputs": [],
   "source": [
    "def calc_profit(region):\n",
    "    BUDGET_200 = 100 * (10 ** 6)\n",
    "    BUDGET_1 = BUDGET_200/200\n",
    "    RAW_REVENUE = 4.5\n",
    "    VOLUME_OF_RESERVE = 1000\n",
    "    UNIT_REVENUE = RAW_REVENUE * VOLUME_OF_RESERVE\n",
    "    \n",
    "    \n",
    "    reg_rel = region.sort_values(by ='pred', ascending = False).head(200)\n",
    "    top_200_volumes = reg_rel['target']\n",
    "    top_200_revenues = (reg_rel['target']*UNIT_REVENUE)-BUDGET_1\n",
    "    sum_top_200 = sum(top_200_revenues)\n",
    "       \n",
    "    return  top_200_volumes, sum_top_200 \n",
    "    "
   ]
  },
  {
   "cell_type": "code",
   "execution_count": 34,
   "id": "1ceb1611",
   "metadata": {},
   "outputs": [],
   "source": [
    "sample1 = reg1.sample(n=800, replace=True, random_state=12345).reset_index(drop= True)\n",
    "top_200_pred_vol_reg1, sum_top_200_pred_revenue_reg1 =  calc_profit(sample1)\n",
    "\n",
    "sample2 = reg2.sample(n=800, replace=True, random_state=12345).reset_index(drop= True)\n",
    "top_200_pred_vol_reg2, sum_top_200_pred_revenue_reg2 =  calc_profit(sample2)\n",
    "\n",
    "sample3 = reg3.sample(n=800, replace=True, random_state=12345).reset_index(drop= True)\n",
    "top_200_pred_vol_reg3, sum_top_200_pred_revenue_reg3 =  calc_profit(sample3)\n"
   ]
  },
  {
   "cell_type": "code",
   "execution_count": 35,
   "id": "c10e102f",
   "metadata": {},
   "outputs": [
    {
     "name": "stdout",
     "output_type": "stream",
     "text": [
      "The predicted profit from region 1 200 top wells:  13547657.375178535\n",
      "The predicted volume from region 1 200 top wells:  25232.812750039673\n",
      "\n",
      "The predicted profit from region 2 200 top wells:  13845598.610571621\n",
      "The predicted volume from region 2 200 top wells:  25299.021913460372\n",
      "\n",
      "The predicted profit from region 3 200 top wells:  7875544.220299912\n",
      "The predicted volume from region 3 200 top wells:  23972.343160066644\n"
     ]
    }
   ],
   "source": [
    "# Provide findings and calculate the profit for the obtained volume of reserves:\n",
    "\n",
    "print(\"The predicted profit from region 1 200 top wells: \", sum_top_200_pred_revenue_reg1)\n",
    "print(\"The predicted volume from region 1 200 top wells: \", top_200_pred_vol_reg1.sum())\n",
    "print()\n",
    "print(\"The predicted profit from region 2 200 top wells: \", sum_top_200_pred_revenue_reg2)\n",
    "print(\"The predicted volume from region 2 200 top wells: \", top_200_pred_vol_reg2.sum())\n",
    "print()\n",
    "print(\"The predicted profit from region 3 200 top wells: \", sum_top_200_pred_revenue_reg3)\n",
    "print(\"The predicted volume from region 3 200 top wells: \", top_200_pred_vol_reg3.sum())"
   ]
  },
  {
   "cell_type": "markdown",
   "id": "7dda72b7",
   "metadata": {},
   "source": [
    "**Region 3 has the lowest profit for the top 200 predicted product and Region 1 has the highest volume**"
   ]
  },
  {
   "cell_type": "markdown",
   "id": "16681429",
   "metadata": {},
   "source": [
    "### 5. Calculate risks and profit for each region"
   ]
  },
  {
   "cell_type": "markdown",
   "id": "094b4c77",
   "metadata": {},
   "source": [
    "* When exploring the region, a study of 500 points is carried with picking the best 200 points for the profit calculation.\n",
    "* After the risk evaluation, keep only the regions with the risk of losses lower than 2.5%. \n",
    "* From the ones that fit the criteria, the region with the highest average profit should be selected.\n",
    "* The data is synthetic: contract details and well characteristics are not disclosed.\n",
    "* Analyze potential profit and risks using the Bootstrapping technique."
   ]
  },
  {
   "cell_type": "code",
   "execution_count": 36,
   "id": "f9e47e31",
   "metadata": {},
   "outputs": [],
   "source": [
    "def bootstrap(region, n_samples):\n",
    "    state = np.random.RandomState(12345)\n",
    "    values_rev =[]\n",
    "    \n",
    "    for i in range(n_samples):\n",
    "        subsample = region.sample(n=500, replace=True, random_state=state).reset_index(drop= True)\n",
    "        volume, revenue =  calc_profit(subsample)\n",
    "        values_rev.append(revenue)\n",
    "    \n",
    "    values_rev = pd.Series(values_rev)\n",
    "\n",
    "    return values_rev"
   ]
  },
  {
   "cell_type": "markdown",
   "id": "9356c756",
   "metadata": {},
   "source": [
    "#### 5.1. Use the bootstrapping technique with 1000 samples to find the distribution of profit"
   ]
  },
  {
   "cell_type": "code",
   "execution_count": 37,
   "id": "c35b893f",
   "metadata": {},
   "outputs": [],
   "source": [
    "revenue1 = bootstrap(reg1, 1000)\n",
    "losses1 = revenue1[revenue1<0]"
   ]
  },
  {
   "cell_type": "code",
   "execution_count": 38,
   "id": "8188de55",
   "metadata": {},
   "outputs": [
    {
     "data": {
      "text/plain": [
       "52    -1.059347e+06\n",
       "172   -3.384513e+05\n",
       "250   -1.922681e+06\n",
       "275   -1.472354e+06\n",
       "289   -1.023894e+06\n",
       "dtype: float64"
      ]
     },
     "execution_count": 38,
     "metadata": {},
     "output_type": "execute_result"
    }
   ],
   "source": [
    "revenue2 = bootstrap(reg2, 1000)\n",
    "losses2 = revenue2[revenue2<0]\n",
    "losses2.head()"
   ]
  },
  {
   "cell_type": "code",
   "execution_count": 39,
   "id": "cd7cb177",
   "metadata": {},
   "outputs": [
    {
     "data": {
      "text/plain": [
       "0    -7.189923e+05\n",
       "4    -5.596049e+05\n",
       "13   -2.008793e+05\n",
       "19   -1.016950e+06\n",
       "21   -2.466664e+06\n",
       "dtype: float64"
      ]
     },
     "execution_count": 39,
     "metadata": {},
     "output_type": "execute_result"
    }
   ],
   "source": [
    "revenue3 = bootstrap(reg3, 1000)\n",
    "losses3 = revenue3[revenue3<0]\n",
    "losses3.head()"
   ]
  },
  {
   "cell_type": "code",
   "execution_count": 41,
   "id": "03324e52",
   "metadata": {},
   "outputs": [],
   "source": [
    "# fig5 = go.Figure()\n",
    "# fig5.add_trace(go.Histogram(x=revenue1, name = 'region 1'))\n",
    "# fig5.add_trace(go.Histogram(x=revenue2, name = 'region 2'))\n",
    "# fig5.add_trace(go.Histogram(x=revenue3, name = 'region 3'))\n",
    "        \n",
    "# # Overlay both histograms\n",
    "# fig5.update_layout(barmode='overlay')\n",
    "# # Reduce opacity to see both histograms\n",
    "# fig5.update_layout(yaxis_title = 'distribution',\n",
    "#                     xaxis_title = 'Profit assement',\n",
    "#                     title_text=\"Profit assement by top 200 predictions per region distribution\")\n",
    "\n",
    "# fig5.update_traces(opacity=0.50)\n",
    "# fig5.show()"
   ]
  },
  {
   "attachments": {
    "newplot5.png": {
     "image/png": "[encoded data removed]"
    }
   },
   "cell_type": "markdown",
   "id": "afb7fbd9",
   "metadata": {},
   "source": [
    "![newplot5.png](attachment:newplot5.png)"
   ]
  },
  {
   "cell_type": "markdown",
   "id": "53183f13",
   "metadata": {},
   "source": [
    "#### 5.2. Find average profit, 95% confidence interval and risk of losses. Loss is negative profit, calculate it as a probability and then express as a percentage"
   ]
  },
  {
   "cell_type": "code",
   "execution_count": 42,
   "id": "54aad561",
   "metadata": {},
   "outputs": [],
   "source": [
    "def calc_5_2(revenue, losses, region):\n",
    "    print(region)\n",
    "    print(\"The average profit: %.2f\" %revenue.mean())\n",
    "    print(\"95% confidence interval (95 present of the data between the follwing borders):\")\n",
    "    print(\"Top border: %.2f\" %revenue.quantile(0.975))\n",
    "    print(\"Bottom border: %.2f\" % revenue.quantile(0.025))\n",
    "    print(\"Risk of losses: \", len(losses)/ len(revenue))\n",
    "    "
   ]
  },
  {
   "cell_type": "code",
   "execution_count": 43,
   "id": "9456d91e",
   "metadata": {},
   "outputs": [
    {
     "name": "stdout",
     "output_type": "stream",
     "text": [
      "Region1\n",
      "The average profit: 3961649.85\n",
      "95% confidence interval (95 present of the data between the follwing borders):\n",
      "Top border: 9097669.42\n",
      "Bottom border: -1112155.46\n",
      "Risk of losses:  0.069\n"
     ]
    }
   ],
   "source": [
    "calc_5_2(revenue1, losses1, \"Region1\")"
   ]
  },
  {
   "cell_type": "code",
   "execution_count": 44,
   "id": "b81e00d3",
   "metadata": {},
   "outputs": [
    {
     "name": "stdout",
     "output_type": "stream",
     "text": [
      "Region2\n",
      "The average profit: 4560451.06\n",
      "95% confidence interval (95 present of the data between the follwing borders):\n",
      "Top border: 8522894.54\n",
      "Bottom border: 338205.09\n",
      "Risk of losses:  0.015\n"
     ]
    }
   ],
   "source": [
    "calc_5_2(revenue2, losses2, \"Region2\")\n"
   ]
  },
  {
   "cell_type": "code",
   "execution_count": 45,
   "id": "54ae7478",
   "metadata": {},
   "outputs": [
    {
     "name": "stdout",
     "output_type": "stream",
     "text": [
      "Region3\n",
      "The average profit: 4044038.67\n",
      "95% confidence interval (95 present of the data between the follwing borders):\n",
      "Top border: 9503595.75\n",
      "Bottom border: -1633504.13\n",
      "Risk of losses:  0.076\n"
     ]
    }
   ],
   "source": [
    "calc_5_2(revenue3, losses3, \"Region3\")"
   ]
  },
  {
   "cell_type": "markdown",
   "id": "cd483533",
   "metadata": {},
   "source": [
    "**Region 2 has the best evaluation outcome:**\n",
    "* The average profit: 4,560,451.06\n",
    "* 95% confidence interval (95 present of the data between the follwing borders):\n",
    "    * Top border: 8,522,894.54\n",
    "    * Bottom border: 338,205.09\n",
    "* Risk of losses:  0.015"
   ]
  },
  {
   "cell_type": "markdown",
   "id": "5287a0ad",
   "metadata": {},
   "source": [
    "### Conclusion"
   ]
  },
  {
   "cell_type": "markdown",
   "id": "7b18d07d",
   "metadata": {},
   "source": [
    "For the OilyGiant mining company. \n",
    "The task is to find the best place for a new well.\n",
    "We got data on three regions oil wells, we trained the 3 different linear regression models to  predict the volume of the wells.\n",
    "After the 3 models were trained, we used the test set to get predictions for the tree region. \n",
    "for the 200 best predictions the true volume were used to find the revenue for thos 200 point. \n",
    "Then we used to bootsrap technique to take 1000 samples of 500 observations, from thos 500 observations the 200 best oil wells were chosen(the true value) based on 200 best predictions. \n",
    "\n",
    "**Region 1:**\n",
    "* The average profit: 3,961,649.85\n",
    "* 95% confidence interval:\n",
    "    * Top border: 9,097,669.42\n",
    "    * Bottom border: -1,112,155.46\n",
    "* Risk of losses:  0.069\n",
    "\n",
    "**Region 2 :**\n",
    "* The average profit: 4,560,451.06\n",
    "* 95% confidence interval:\n",
    "    * Top border: 8,522,894.54\n",
    "    * Bottom border: 338,205.09\n",
    "* Risk of losses:  0.015\n",
    "\n",
    "**Region3: *\n",
    "* The average profit: 4,044,038.67\n",
    "* 95% confidence interval:\n",
    "    * Top border: 9,503,595.75\n",
    "    * Bottom border: -1,633,504.13\n",
    "* Risk of losses:  0.076\n",
    "\n",
    "Region 2 has the best evaluation outcome, the lowest risk and the highest average profit, and that the reason I suggest Region 2 for development of oil wells."
   ]
  },
  {
   "cell_type": "code",
   "execution_count": null,
   "id": "f935416b",
   "metadata": {},
   "outputs": [],
   "source": []
  }
 ],
 "metadata": {
  "ExecuteTimeLog": [
   {
    "duration": 3,
    "start_time": "2022-06-16T20:53:46.794Z"
   },
   {
    "duration": 412,
    "start_time": "2022-06-16T20:53:46.799Z"
   },
   {
    "duration": 25,
    "start_time": "2022-06-16T20:53:47.213Z"
   },
   {
    "duration": 68,
    "start_time": "2022-06-16T20:53:47.239Z"
   },
   {
    "duration": 114,
    "start_time": "2022-06-16T20:53:47.309Z"
   },
   {
    "duration": 23,
    "start_time": "2022-06-16T20:53:47.425Z"
   },
   {
    "duration": 65,
    "start_time": "2022-06-16T20:53:47.450Z"
   },
   {
    "duration": 129,
    "start_time": "2022-06-16T20:53:47.517Z"
   },
   {
    "duration": 25,
    "start_time": "2022-06-16T20:53:47.649Z"
   },
   {
    "duration": 136,
    "start_time": "2022-06-16T20:53:47.675Z"
   },
   {
    "duration": 46,
    "start_time": "2022-06-16T20:53:47.813Z"
   },
   {
    "duration": 4,
    "start_time": "2022-06-16T20:53:47.861Z"
   },
   {
    "duration": 50,
    "start_time": "2022-06-16T20:53:47.867Z"
   },
   {
    "duration": 28,
    "start_time": "2022-06-16T20:53:47.921Z"
   },
   {
    "duration": 54,
    "start_time": "2022-06-16T20:53:47.952Z"
   },
   {
    "duration": 17,
    "start_time": "2022-06-16T20:53:48.008Z"
   },
   {
    "duration": 169,
    "start_time": "2022-06-16T20:53:48.026Z"
   },
   {
    "duration": 111,
    "start_time": "2022-06-16T20:53:48.198Z"
   },
   {
    "duration": 327,
    "start_time": "2022-06-16T20:53:48.311Z"
   },
   {
    "duration": 6,
    "start_time": "2022-06-16T20:53:48.640Z"
   },
   {
    "duration": 7,
    "start_time": "2022-06-16T20:53:48.648Z"
   },
   {
    "duration": 145,
    "start_time": "2022-06-16T20:53:48.657Z"
   },
   {
    "duration": 95,
    "start_time": "2022-06-16T20:53:48.805Z"
   },
   {
    "duration": 107,
    "start_time": "2022-06-16T20:53:48.902Z"
   },
   {
    "duration": 3683,
    "start_time": "2022-06-16T20:53:49.011Z"
   },
   {
    "duration": 3533,
    "start_time": "2022-06-16T20:53:52.696Z"
   },
   {
    "duration": 5,
    "start_time": "2022-06-16T20:53:56.230Z"
   },
   {
    "duration": 3518,
    "start_time": "2022-06-16T20:53:56.237Z"
   },
   {
    "duration": 6,
    "start_time": "2022-06-16T20:53:59.757Z"
   },
   {
    "duration": 1993,
    "start_time": "2022-06-16T20:53:59.765Z"
   },
   {
    "duration": 4,
    "start_time": "2022-06-16T20:54:01.759Z"
   },
   {
    "duration": 37,
    "start_time": "2022-06-16T20:54:01.766Z"
   },
   {
    "duration": 10,
    "start_time": "2022-06-16T20:54:01.805Z"
   },
   {
    "duration": 79,
    "start_time": "2022-06-16T20:54:01.816Z"
   },
   {
    "duration": 1149,
    "start_time": "2022-06-16T20:54:41.271Z"
   },
   {
    "duration": 404,
    "start_time": "2022-06-16T20:54:42.422Z"
   },
   {
    "duration": 30,
    "start_time": "2022-06-16T20:54:42.828Z"
   },
   {
    "duration": 75,
    "start_time": "2022-06-16T20:54:42.860Z"
   },
   {
    "duration": 104,
    "start_time": "2022-06-16T20:54:42.937Z"
   },
   {
    "duration": 24,
    "start_time": "2022-06-16T20:54:43.043Z"
   },
   {
    "duration": 73,
    "start_time": "2022-06-16T20:54:43.070Z"
   },
   {
    "duration": 116,
    "start_time": "2022-06-16T20:54:43.144Z"
   },
   {
    "duration": 35,
    "start_time": "2022-06-16T20:54:43.262Z"
   },
   {
    "duration": 106,
    "start_time": "2022-06-16T20:54:43.299Z"
   },
   {
    "duration": 54,
    "start_time": "2022-06-16T20:54:43.407Z"
   },
   {
    "duration": 4,
    "start_time": "2022-06-16T20:54:43.463Z"
   },
   {
    "duration": 50,
    "start_time": "2022-06-16T20:54:43.468Z"
   },
   {
    "duration": 30,
    "start_time": "2022-06-16T20:54:43.521Z"
   },
   {
    "duration": 51,
    "start_time": "2022-06-16T20:54:43.553Z"
   },
   {
    "duration": 90,
    "start_time": "2022-06-16T20:54:43.605Z"
   },
   {
    "duration": 111,
    "start_time": "2022-06-16T20:54:43.697Z"
   },
   {
    "duration": 107,
    "start_time": "2022-06-16T20:54:43.896Z"
   },
   {
    "duration": 663,
    "start_time": "2022-06-16T20:54:44.005Z"
   },
   {
    "duration": 4,
    "start_time": "2022-06-16T20:54:44.695Z"
   },
   {
    "duration": 6,
    "start_time": "2022-06-16T20:54:44.701Z"
   },
   {
    "duration": 186,
    "start_time": "2022-06-16T20:54:44.708Z"
   },
   {
    "duration": 104,
    "start_time": "2022-06-16T20:54:44.897Z"
   },
   {
    "duration": 17,
    "start_time": "2022-06-16T20:54:45.002Z"
   },
   {
    "duration": 3495,
    "start_time": "2022-06-16T20:54:45.021Z"
   },
   {
    "duration": 3420,
    "start_time": "2022-06-16T20:54:48.518Z"
   },
   {
    "duration": 5,
    "start_time": "2022-06-16T20:54:51.940Z"
   },
   {
    "duration": 3409,
    "start_time": "2022-06-16T20:54:51.947Z"
   },
   {
    "duration": 5,
    "start_time": "2022-06-16T20:54:55.358Z"
   },
   {
    "duration": 1947,
    "start_time": "2022-06-16T20:54:55.364Z"
   },
   {
    "duration": 4,
    "start_time": "2022-06-16T20:54:57.313Z"
   },
   {
    "duration": 22,
    "start_time": "2022-06-16T20:54:57.318Z"
   },
   {
    "duration": 14,
    "start_time": "2022-06-16T20:54:57.394Z"
   },
   {
    "duration": 8,
    "start_time": "2022-06-16T20:54:57.410Z"
   },
   {
    "duration": 6,
    "start_time": "2022-06-16T21:05:55.864Z"
   },
   {
    "duration": 4,
    "start_time": "2022-06-16T21:08:52.206Z"
   },
   {
    "duration": 4,
    "start_time": "2022-06-16T21:09:02.477Z"
   },
   {
    "duration": 109,
    "start_time": "2022-06-16T21:09:42.812Z"
   },
   {
    "duration": 6,
    "start_time": "2022-06-16T21:10:35.493Z"
   },
   {
    "duration": 8595,
    "start_time": "2022-06-16T21:10:36.408Z"
   },
   {
    "duration": 4,
    "start_time": "2022-06-16T21:11:15.797Z"
   },
   {
    "duration": 4,
    "start_time": "2022-06-16T21:11:20.235Z"
   },
   {
    "duration": 4,
    "start_time": "2022-06-16T21:11:28.151Z"
   },
   {
    "duration": 4,
    "start_time": "2022-06-16T21:11:47.178Z"
   },
   {
    "duration": 6,
    "start_time": "2022-06-16T21:12:17.827Z"
   },
   {
    "duration": 6,
    "start_time": "2022-06-16T21:12:23.895Z"
   },
   {
    "duration": 4,
    "start_time": "2022-06-16T21:12:38.818Z"
   },
   {
    "duration": 5,
    "start_time": "2022-06-16T21:14:06.320Z"
   },
   {
    "duration": 8999,
    "start_time": "2022-06-16T21:14:07.847Z"
   },
   {
    "duration": 10,
    "start_time": "2022-06-16T21:14:23.184Z"
   },
   {
    "duration": 1544,
    "start_time": "2022-06-18T00:30:19.902Z"
   },
   {
    "duration": 774,
    "start_time": "2022-06-18T00:30:21.448Z"
   },
   {
    "duration": 28,
    "start_time": "2022-06-18T00:30:22.223Z"
   },
   {
    "duration": 57,
    "start_time": "2022-06-18T00:30:22.253Z"
   },
   {
    "duration": 98,
    "start_time": "2022-06-18T00:30:22.313Z"
   },
   {
    "duration": 29,
    "start_time": "2022-06-18T00:30:22.413Z"
   },
   {
    "duration": 42,
    "start_time": "2022-06-18T00:30:22.443Z"
   },
   {
    "duration": 106,
    "start_time": "2022-06-18T00:30:22.486Z"
   },
   {
    "duration": 20,
    "start_time": "2022-06-18T00:30:22.594Z"
   },
   {
    "duration": 82,
    "start_time": "2022-06-18T00:30:22.627Z"
   },
   {
    "duration": 60,
    "start_time": "2022-06-18T00:30:22.710Z"
   },
   {
    "duration": 3,
    "start_time": "2022-06-18T00:30:22.772Z"
   },
   {
    "duration": 30,
    "start_time": "2022-06-18T00:30:22.777Z"
   },
   {
    "duration": 35,
    "start_time": "2022-06-18T00:30:22.810Z"
   },
   {
    "duration": 22,
    "start_time": "2022-06-18T00:30:22.846Z"
   },
   {
    "duration": 58,
    "start_time": "2022-06-18T00:30:22.870Z"
   },
   {
    "duration": 106,
    "start_time": "2022-06-18T00:30:22.930Z"
   },
   {
    "duration": 191,
    "start_time": "2022-06-18T00:30:23.038Z"
   },
   {
    "duration": 678,
    "start_time": "2022-06-18T00:30:23.231Z"
   },
   {
    "duration": 6,
    "start_time": "2022-06-18T00:30:23.911Z"
   },
   {
    "duration": 16,
    "start_time": "2022-06-18T00:30:23.928Z"
   },
   {
    "duration": 3,
    "start_time": "2022-06-18T00:30:23.946Z"
   },
   {
    "duration": 10,
    "start_time": "2022-06-18T00:30:23.951Z"
   },
   {
    "duration": 10,
    "start_time": "2022-06-18T00:30:23.963Z"
   },
   {
    "duration": 52,
    "start_time": "2022-06-18T00:30:23.975Z"
   },
   {
    "duration": 1078,
    "start_time": "2022-06-18T00:30:24.029Z"
   },
   {
    "duration": 979,
    "start_time": "2022-06-18T00:30:25.108Z"
   },
   {
    "duration": 4,
    "start_time": "2022-06-18T00:30:26.089Z"
   },
   {
    "duration": 1048,
    "start_time": "2022-06-18T00:30:26.094Z"
   },
   {
    "duration": 4,
    "start_time": "2022-06-18T00:30:27.143Z"
   },
   {
    "duration": 17,
    "start_time": "2022-06-18T00:30:27.149Z"
   },
   {
    "duration": 6,
    "start_time": "2022-06-18T00:30:27.167Z"
   },
   {
    "duration": 12,
    "start_time": "2022-06-18T00:30:27.174Z"
   },
   {
    "duration": 15,
    "start_time": "2022-06-18T00:30:27.188Z"
   },
   {
    "duration": 8,
    "start_time": "2022-06-18T00:30:27.205Z"
   },
   {
    "duration": 6,
    "start_time": "2022-06-18T00:43:02.562Z"
   },
   {
    "duration": 7,
    "start_time": "2022-06-18T00:43:06.288Z"
   },
   {
    "duration": 9,
    "start_time": "2022-06-18T00:43:12.659Z"
   },
   {
    "duration": 9,
    "start_time": "2022-06-18T00:43:21.014Z"
   },
   {
    "duration": 6,
    "start_time": "2022-06-18T00:43:23.049Z"
   },
   {
    "duration": 5,
    "start_time": "2022-06-18T00:43:37.828Z"
   },
   {
    "duration": 9,
    "start_time": "2022-06-18T00:43:48.034Z"
   },
   {
    "duration": 103,
    "start_time": "2022-06-18T00:45:11.262Z"
   },
   {
    "duration": 10,
    "start_time": "2022-06-18T00:45:15.234Z"
   },
   {
    "duration": 10,
    "start_time": "2022-06-18T00:48:21.299Z"
   },
   {
    "duration": 10,
    "start_time": "2022-06-18T00:50:53.936Z"
   }
  ],
  "kernelspec": {
   "display_name": "Python 3 (ipykernel)",
   "language": "python",
   "name": "python3"
  },
  "language_info": {
   "codemirror_mode": {
    "name": "ipython",
    "version": 3
   },
   "file_extension": ".py",
   "mimetype": "text/x-python",
   "name": "python",
   "nbconvert_exporter": "python",
   "pygments_lexer": "ipython3",
   "version": "3.9.7"
  },
  "toc": {
   "base_numbering": 1,
   "nav_menu": {},
   "number_sections": true,
   "sideBar": true,
   "skip_h1_title": true,
   "title_cell": "Table of Contents",
   "title_sidebar": "Contents",
   "toc_cell": false,
   "toc_position": {},
   "toc_section_display": true,
   "toc_window_display": false
  }
 },
 "nbformat": 4,
 "nbformat_minor": 5
}
